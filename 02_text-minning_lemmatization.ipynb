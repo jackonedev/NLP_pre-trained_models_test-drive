{
 "cells": [
  {
   "cell_type": "markdown",
   "metadata": {},
   "source": [
    "#  Lemmatization in NLP using WordNetLemmatizer\n",
    "\n",
    "La lemmatización es el proceso de convertir una palabra a su forma base. La diferencia entre la lematización y la derivación es que la lematización considera el contexto y convierte la palabra a su forma base de acuerdo con el contexto, mientras que, en la derivación, la palabra se convierte a su forma base mediante el uso de reglas simples.\n",
    "\n",
    "ref:\n",
    "- https://aparnamishra144.medium.com/lemmatization-in-nlp-using-wordnetlemmatizer-420a444a50d\n",
    "- github copilot"
   ]
  },
  {
   "cell_type": "code",
   "execution_count": 8,
   "metadata": {},
   "outputs": [],
   "source": [
    "import nltk\n",
    "#used for performing lemmatization\n",
    "from nltk.stem import WordNetLemmatizer \n",
    "#used to remove repeating words like- of,we,the,them etc\n",
    "from nltk.corpus import stopwords  \n",
    "para = \"\"\"Yoga develops inner awareness. \\\n",
    "It focuses your attention on your body's abilities at the present moment. \\\n",
    "It helps develop breath and strength of mind and body. \\\n",
    "It's not about physical appearance. \\\n",
    "Yoga studios typically don't have mirrors. \\\n",
    "This is so people can focus their awareness inward rather than how a pose — or the people around them — looks.\n",
    "\"\"\"\n",
    "\n"
   ]
  },
  {
   "cell_type": "code",
   "execution_count": 9,
   "metadata": {},
   "outputs": [
    {
     "data": {
      "text/plain": [
       "['Yoga develops inner awareness',\n",
       " \"It focuses your attention on your body's abilities at the present moment\",\n",
       " 'It helps develop breath and strength of mind and body',\n",
       " \"It's not about physical appearance\",\n",
       " \"Yoga studios typically don't have mirrors\",\n",
       " 'This is so people can focus their awareness inward rather than how a pose — or the people around them — looks.\\n']"
      ]
     },
     "execution_count": 9,
     "metadata": {},
     "output_type": "execute_result"
    }
   ],
   "source": [
    "para.split(\". \")"
   ]
  },
  {
   "cell_type": "code",
   "execution_count": 3,
   "metadata": {},
   "outputs": [
    {
     "name": "stdout",
     "output_type": "stream",
     "text": [
      "Yoga develops inner awareness.\n",
      "It focuses your attention on your body's abilities at the present moment.\n",
      "It helps develop breath and strength of mind and body.\n",
      "It's not about physical appearance.\n",
      "Yoga studios typically don't have mirrors.\n",
      "This is so people can focus their awareness inward rather than how a pose — or the people around them — looks.\n",
      "length of sentences after tokenization: 6\n"
     ]
    }
   ],
   "source": [
    "#tokenizing the para into sentences\n",
    "#TODO: una herramienta regex que verifique la existencia de espacios luego de un punto.\n",
    "sentences = nltk.sent_tokenize(para)\n",
    "for sentence in sentences:\n",
    "    print(sentence)\n",
    "\n",
    "print(\"\\nlength of sentences after tokenization:\",len(sentences))"
   ]
  },
  {
   "cell_type": "code",
   "execution_count": 10,
   "metadata": {},
   "outputs": [
    {
     "name": "stdout",
     "output_type": "stream",
     "text": [
      "Yoga develops inner awareness .\n",
      "It focus attention body 's ability present moment .\n",
      "It help develop breath strength mind body .\n",
      "It 's physical appearance .\n",
      "Yoga studio typically n't mirror .\n",
      "This people focus awareness inward rather pose — people around — look .\n"
     ]
    }
   ],
   "source": [
    "# WordNetLemmatizer is a library used for Lemmatizing task\n",
    "#creating lemmatizer object \n",
    "lemmatizer = WordNetLemmatizer()\n",
    "#for loop \n",
    "for i in range(len(sentences)):\n",
    "    words = nltk.word_tokenize(sentences[i])\n",
    "    words = [lemmatizer.lemmatize(word) for word in words if word not in set(stopwords.words('english'))]\n",
    "    sentences[i] = ' '.join(words)\n",
    "# print(words)\n",
    "for sentence in sentences:\n",
    "    print(sentence)"
   ]
  },
  {
   "cell_type": "code",
   "execution_count": 11,
   "metadata": {},
   "outputs": [
    {
     "name": "stdout",
     "output_type": "stream",
     "text": [
      "This\n",
      "people\n",
      "focus\n",
      "awareness\n",
      "inward\n",
      "rather\n",
      "pose\n",
      "—\n",
      "people\n",
      "around\n",
      "—\n",
      "look\n",
      ".\n"
     ]
    }
   ],
   "source": [
    "for word in words:\n",
    "    print(word)"
   ]
  },
  {
   "cell_type": "markdown",
   "metadata": {},
   "source": [
    "**Conclusión:**\n",
    "\n",
    "- nltk.sent_tokenize(para): sirve para separar un string en una lista de párrafos, la complicación se debe a errores en el texto, como por ejemplo un punto seguido sin un espacio antes del comienzo del siguiente caracter.\n",
    "- nltk.word_tokenize(sentences[i]): separa un párrafo en una lista de palabras.\n",
    "\n",
    "- WordNetLemmatizer(): realiza el procesamiento de cada palabra convirtiéndola a su forma base.\n",
    "\n",
    "- (investigar) nltk.pos_tag(words): etiqueta cada palabra con su tipo de palabra (sustantivo, verbo, etc).\n",
    "\n"
   ]
  }
 ],
 "metadata": {
  "kernelspec": {
   "display_name": "venv",
   "language": "python",
   "name": "python3"
  },
  "language_info": {
   "codemirror_mode": {
    "name": "ipython",
    "version": 3
   },
   "file_extension": ".py",
   "mimetype": "text/x-python",
   "name": "python",
   "nbconvert_exporter": "python",
   "pygments_lexer": "ipython3",
   "version": "3.11.4"
  },
  "orig_nbformat": 4
 },
 "nbformat": 4,
 "nbformat_minor": 2
}

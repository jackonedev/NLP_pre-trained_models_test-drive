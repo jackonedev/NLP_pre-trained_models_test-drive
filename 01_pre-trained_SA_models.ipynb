{
 "cells": [
  {
   "cell_type": "markdown",
   "metadata": {},
   "source": [
    "Probando modelos pre entrenados de hugging hub\n",
    "\n",
    "ref:\n",
    "https://huggingface.co/blog/sentiment-analysis-python"
   ]
  },
  {
   "cell_type": "code",
   "execution_count": 1,
   "metadata": {},
   "outputs": [],
   "source": [
    "from transformers import pipeline"
   ]
  },
  {
   "cell_type": "code",
   "execution_count": 2,
   "metadata": {},
   "outputs": [],
   "source": [
    "data = [\"I love you\",\n",
    "        \"I hate you\",\n",
    "        \"Te mando un Software Challenge, si me lo tenes para mañana hablamos\",\n",
    "        \"Recibido se lo paso al equipo técnico y me pongo en contacto contigo\",\n",
    "        \"Te agradecemos tu participación, tu actitud, contamos con tu CV para futuras búsquedas.\",\n",
    "        \"Este proyecto es muy bueno, pero no tenemos presupuesto para pagarte\",\n",
    "        \"Sobrevivir en la selva fue una experiencia increíble\"]"
   ]
  },
  {
   "cell_type": "code",
   "execution_count": 3,
   "metadata": {},
   "outputs": [
    {
     "name": "stderr",
     "output_type": "stream",
     "text": [
      "No model was supplied, defaulted to distilbert-base-uncased-finetuned-sst-2-english and revision af0f99b (https://huggingface.co/distilbert-base-uncased-finetuned-sst-2-english).\n",
      "Using a pipeline without specifying a model name and revision in production is not recommended.\n"
     ]
    },
    {
     "data": {
      "text/plain": [
       "[{'label': 'POSITIVE', 'score': 0.9998656511306763},\n",
       " {'label': 'NEGATIVE', 'score': 0.9991129040718079},\n",
       " {'label': 'NEGATIVE', 'score': 0.9462483525276184},\n",
       " {'label': 'POSITIVE', 'score': 0.8857352137565613},\n",
       " {'label': 'NEGATIVE', 'score': 0.9395855069160461},\n",
       " {'label': 'NEGATIVE', 'score': 0.6286877393722534},\n",
       " {'label': 'NEGATIVE', 'score': 0.9883440732955933}]"
      ]
     },
     "execution_count": 3,
     "metadata": {},
     "output_type": "execute_result"
    }
   ],
   "source": [
    "# Sentiment analysis pipeline\n",
    "sentiment_pipeline = pipeline(\"sentiment-analysis\")\n",
    "\"\"\"first model supplied (default): distilbert-base-uncased-finetuned-sst-2-english\"\"\"\n",
    "\n",
    "sentiment_pipeline(data)"
   ]
  },
  {
   "cell_type": "code",
   "execution_count": 4,
   "metadata": {},
   "outputs": [
    {
     "data": {
      "text/plain": [
       "[{'label': '5 stars', 'score': 0.8546808362007141},\n",
       " {'label': '1 star', 'score': 0.63460773229599},\n",
       " {'label': '1 star', 'score': 0.2691815495491028},\n",
       " {'label': '1 star', 'score': 0.2522459626197815},\n",
       " {'label': '5 stars', 'score': 0.6649454832077026},\n",
       " {'label': '3 stars', 'score': 0.38815465569496155},\n",
       " {'label': '5 stars', 'score': 0.7535420656204224}]"
      ]
     },
     "execution_count": 4,
     "metadata": {},
     "output_type": "execute_result"
    }
   ],
   "source": [
    "sentiment_model_1 = pipeline(model=\"nlptown/bert-base-multilingual-uncased-sentiment\")\n",
    "\n",
    "sentiment_model_1(data)"
   ]
  },
  {
   "cell_type": "markdown",
   "metadata": {},
   "source": [
    "# Otros modelos\n",
    "\n",
    "**Modelos basado en Twitter**\n",
    "- https://huggingface.co/cardiffnlp/twitter-roberta-base-sentiment-latest (english)\n",
    "- https://huggingface.co/cardiffnlp/twitter-xlm-roberta-base-sentiment (multi-language)\n",
    "\n",
    "**Product revision**\n",
    "- https://huggingface.co/nlptown/bert-base-multilingual-uncased-sentiment (languages: English, Dutch, German, French, Spanish, and Italian.)\n",
    "\n",
    "**Emotion detection**\n",
    "\n",
    "- https://huggingface.co/bhadresh-savani/distilbert-base-uncased-emotion is a model fine-tuned for detecting emotions in texts, including sadness, joy, love, anger, fear and surprise."
   ]
  },
  {
   "cell_type": "code",
   "execution_count": 5,
   "metadata": {},
   "outputs": [
    {
     "data": {
      "text/plain": [
       "[{'label': 'positive', 'score': 0.7866937518119812},\n",
       " {'label': 'negative', 'score': 0.9430438280105591},\n",
       " {'label': 'neutral', 'score': 0.8031798601150513},\n",
       " {'label': 'neutral', 'score': 0.8066509962081909},\n",
       " {'label': 'positive', 'score': 0.8364675641059875},\n",
       " {'label': 'neutral', 'score': 0.5574268698692322},\n",
       " {'label': 'positive', 'score': 0.9337177276611328}]"
      ]
     },
     "execution_count": 5,
     "metadata": {},
     "output_type": "execute_result"
    }
   ],
   "source": [
    "# TWITTER: Sentiment analysis pipeline -> EXCELENTE\n",
    "model_path = \"cardiffnlp/twitter-xlm-roberta-base-sentiment\"\n",
    "sentiment_task_twitter = pipeline(\"sentiment-analysis\", model=model_path, tokenizer=model_path)\n",
    "sentiment_task_twitter(data)"
   ]
  },
  {
   "cell_type": "code",
   "execution_count": 6,
   "metadata": {},
   "outputs": [
    {
     "data": {
      "text/plain": [
       "[{'label': '5 stars', 'score': 0.8546808362007141},\n",
       " {'label': '1 star', 'score': 0.63460773229599},\n",
       " {'label': '1 star', 'score': 0.2691815495491028},\n",
       " {'label': '1 star', 'score': 0.2522459626197815},\n",
       " {'label': '5 stars', 'score': 0.6649454832077026},\n",
       " {'label': '3 stars', 'score': 0.38815465569496155},\n",
       " {'label': '5 stars', 'score': 0.7535420656204224}]"
      ]
     },
     "execution_count": 6,
     "metadata": {},
     "output_type": "execute_result"
    }
   ],
   "source": [
    "# PRODUCT REVIEW: Sentiment analysis pipeline\n",
    "model_path = \"nlptown/bert-base-multilingual-uncased-sentiment\"\n",
    "sentiment_task_prod_review = pipeline(\"sentiment-analysis\", model=model_path, tokenizer=model_path)\n",
    "sentiment_task_prod_review(data)"
   ]
  },
  {
   "cell_type": "code",
   "execution_count": 23,
   "metadata": {},
   "outputs": [
    {
     "data": {
      "text/plain": [
       "[[{'label': 'joy', 'score': 0.6586602926254272},\n",
       "  {'label': 'anger', 'score': 0.25359588861465454},\n",
       "  {'label': 'fear', 'score': 0.04995715245604515},\n",
       "  {'label': 'sadness', 'score': 0.028635118156671524},\n",
       "  {'label': 'surprise', 'score': 0.004598680883646011},\n",
       "  {'label': 'love', 'score': 0.004552891943603754}]]"
      ]
     },
     "execution_count": 23,
     "metadata": {},
     "output_type": "execute_result"
    }
   ],
   "source": [
    "# EMOTION: Sentiment analysis pipeline\n",
    "classifier = pipeline(\"text-classification\",model='bhadresh-savani/distilbert-base-uncased-emotion', top_k=None)\n",
    "prediction = classifier(data[-1],)\n",
    "prediction"
   ]
  },
  {
   "cell_type": "code",
   "execution_count": null,
   "metadata": {},
   "outputs": [],
   "source": []
  }
 ],
 "metadata": {
  "kernelspec": {
   "display_name": "venv",
   "language": "python",
   "name": "python3"
  },
  "language_info": {
   "codemirror_mode": {
    "name": "ipython",
    "version": 3
   },
   "file_extension": ".py",
   "mimetype": "text/x-python",
   "name": "python",
   "nbconvert_exporter": "python",
   "pygments_lexer": "ipython3",
   "version": "3.11.4"
  }
 },
 "nbformat": 4,
 "nbformat_minor": 2
}
